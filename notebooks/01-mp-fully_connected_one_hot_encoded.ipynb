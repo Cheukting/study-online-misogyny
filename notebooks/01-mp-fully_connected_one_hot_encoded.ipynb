{
 "cells": [
  {
   "cell_type": "markdown",
   "metadata": {
    "collapsed": true,
    "pycharm": {
     "is_executing": false,
     "name": "#%% md\n"
    }
   },
   "source": [
    "# =========================\n",
    "# Load libraries\n",
    "# ========================="
   ]
  },
  {
   "cell_type": "code",
   "execution_count": 25,
   "metadata": {
    "pycharm": {
     "is_executing": false,
     "name": "#%%\n"
    }
   },
   "outputs": [],
   "source": [
    "import pandas as pd\n",
    "import numpy as np\n",
    "from keras.preprocessing.text import Tokenizer\n",
    "from keras import models\n",
    "from keras import layers\n",
    "import matplotlib.pyplot as plt\n",
    "from sklearn.model_selection import train_test_split"
   ]
  },
  {
   "cell_type": "markdown",
   "metadata": {},
   "source": [
    "# =========================\n",
    "# Load data\n",
    "# ========================="
   ]
  },
  {
   "cell_type": "code",
   "execution_count": 26,
   "metadata": {
    "pycharm": {
     "is_executing": false,
     "name": "#%%\n"
    }
   },
   "outputs": [],
   "source": [
    "# Load stanford data\n",
    "data = pd.read_csv(\"../data/processed/stanford.csv\")\n",
    "\n",
    "train_data, test_data, train_labels, test_labels = train_test_split(\n",
    "    data[\"text\"], data[\"label\"], test_size=0.2\n",
    ")"
   ]
  },
  {
   "cell_type": "markdown",
   "metadata": {
    "pycharm": {
     "name": "#%% md\n"
    }
   },
   "source": [
    "# =========================\n",
    "# One-hot encode\n",
    "# ========================="
   ]
  },
  {
   "cell_type": "code",
   "execution_count": 27,
   "metadata": {
    "pycharm": {
     "is_executing": false,
     "name": "#%%\n"
    }
   },
   "outputs": [
    {
     "name": "stdout",
     "output_type": "stream",
     "text": [
      "Found 54315 unique words.\n"
     ]
    }
   ],
   "source": [
    "# Create unique index for every word and fit to training data\n",
    "tokenizer = Tokenizer(num_words = 10000)\n",
    "tokenizer.fit_on_texts(train_data)\n",
    "\n",
    "# Print the number of unique words found in the data set (not the limit placed\n",
    "# on the tokenizer), use this as feedback to the num_words arg of Tokenizer().\n",
    "print('Found %d unique words.' % len(tokenizer.word_index))\n",
    "\n",
    "# One-hot encode\n",
    "train_encodings = tokenizer.texts_to_matrix(train_data, mode = 'binary')"
   ]
  },
  {
   "cell_type": "markdown",
   "metadata": {
    "pycharm": {
     "name": "#%% md\n"
    }
   },
   "source": [
    "# =========================\n",
    "# Split data\n",
    "# ========================="
   ]
  },
  {
   "cell_type": "code",
   "execution_count": 28,
   "metadata": {
    "pycharm": {
     "is_executing": false,
     "name": "#%%\n"
    }
   },
   "outputs": [],
   "source": [
    "# Randomly shuffle data\n",
    "indices = np.arange(train_encodings.shape[0])\n",
    "np.random.shuffle(indices)\n",
    "train_encodings = train_encodings[indices]\n",
    "train_labels = train_labels.values[indices]\n",
    "\n",
    "# Split into training and validation data (approximately 80:20)\n",
    "x_train = train_encodings[:24000]\n",
    "y_train = train_labels[:24000]\n",
    "x_val   = train_encodings[24000:]\n",
    "y_val   = train_labels[24000:]"
   ]
  },
  {
   "cell_type": "markdown",
   "metadata": {
    "pycharm": {
     "name": "#%% md\n"
    }
   },
   "source": [
    "# =========================\n",
    "# Build model\n",
    "# ========================="
   ]
  },
  {
   "cell_type": "code",
   "execution_count": 29,
   "metadata": {
    "pycharm": {
     "is_executing": false,
     "name": "#%%\n"
    }
   },
   "outputs": [],
   "source": [
    "# Note the input_shape of the first layer will match the num_words arg from\n",
    "# the Tokenizer() function. Double check with len(data[0])\n",
    "# The final sigmoid layer outputs probability values between [0, 1]\n",
    "model = models.Sequential()\n",
    "model.add(layers.Dense(16, activation = 'relu', input_shape = (10000,)))\n",
    "model.add(layers.Dense(16, activation = 'relu'))\n",
    "model.add(layers.Dense(1, activation = 'sigmoid'))"
   ]
  },
  {
   "cell_type": "markdown",
   "metadata": {
    "pycharm": {
     "name": "#%% md\n"
    }
   },
   "source": [
    "# =========================\n",
    "# Train model\n",
    "# ========================="
   ]
  },
  {
   "cell_type": "code",
   "execution_count": 30,
   "metadata": {
    "pycharm": {
     "is_executing": false,
     "name": "#%%\n"
    }
   },
   "outputs": [
    {
     "name": "stdout",
     "output_type": "stream",
     "text": [
      "Train on 24000 samples, validate on 811 samples\n",
      "Epoch 1/20\n",
      "24000/24000 [==============================] - 3s 105us/step - loss: 0.5867 - acc: 0.7418 - val_loss: 0.5221 - val_acc: 0.7435\n",
      "Epoch 2/20\n",
      "24000/24000 [==============================] - 2s 72us/step - loss: 0.4271 - acc: 0.8082 - val_loss: 0.4421 - val_acc: 0.7694\n",
      "Epoch 3/20\n",
      "24000/24000 [==============================] - 2s 75us/step - loss: 0.3424 - acc: 0.8412 - val_loss: 0.4059 - val_acc: 0.7830\n",
      "Epoch 4/20\n",
      "24000/24000 [==============================] - 2s 68us/step - loss: 0.2929 - acc: 0.8655 - val_loss: 0.3943 - val_acc: 0.7793\n",
      "Epoch 5/20\n",
      "24000/24000 [==============================] - 2s 74us/step - loss: 0.2642 - acc: 0.8782 - val_loss: 0.3978 - val_acc: 0.7904\n",
      "Epoch 6/20\n",
      "24000/24000 [==============================] - 2s 75us/step - loss: 0.2446 - acc: 0.8892 - val_loss: 0.4050 - val_acc: 0.7842\n",
      "Epoch 7/20\n",
      "24000/24000 [==============================] - 2s 78us/step - loss: 0.2290 - acc: 0.8967 - val_loss: 0.4235 - val_acc: 0.7867\n",
      "Epoch 8/20\n",
      "24000/24000 [==============================] - 2s 72us/step - loss: 0.2163 - acc: 0.9055 - val_loss: 0.4375 - val_acc: 0.7879\n",
      "Epoch 9/20\n",
      "24000/24000 [==============================] - 2s 91us/step - loss: 0.2052 - acc: 0.9098 - val_loss: 0.4679 - val_acc: 0.7830\n",
      "Epoch 10/20\n",
      "24000/24000 [==============================] - 2s 88us/step - loss: 0.1958 - acc: 0.9139 - val_loss: 0.4750 - val_acc: 0.7867\n",
      "Epoch 11/20\n",
      "24000/24000 [==============================] - 2s 103us/step - loss: 0.1868 - acc: 0.9184 - val_loss: 0.4976 - val_acc: 0.7818\n",
      "Epoch 12/20\n",
      "24000/24000 [==============================] - 2s 85us/step - loss: 0.1794 - acc: 0.9230 - val_loss: 0.5173 - val_acc: 0.7830\n",
      "Epoch 13/20\n",
      "24000/24000 [==============================] - 2s 81us/step - loss: 0.1717 - acc: 0.9251 - val_loss: 0.5417 - val_acc: 0.7805\n",
      "Epoch 14/20\n",
      "24000/24000 [==============================] - 2s 85us/step - loss: 0.1649 - acc: 0.9288 - val_loss: 0.5715 - val_acc: 0.7818\n",
      "Epoch 15/20\n",
      "24000/24000 [==============================] - 2s 87us/step - loss: 0.1579 - acc: 0.9321 - val_loss: 0.5928 - val_acc: 0.7805\n",
      "Epoch 16/20\n",
      "24000/24000 [==============================] - 2s 101us/step - loss: 0.1518 - acc: 0.9343 - val_loss: 0.6305 - val_acc: 0.7818\n",
      "Epoch 17/20\n",
      "24000/24000 [==============================] - 2s 83us/step - loss: 0.1456 - acc: 0.9376 - val_loss: 0.6665 - val_acc: 0.7768\n",
      "Epoch 18/20\n",
      "24000/24000 [==============================] - 2s 86us/step - loss: 0.1402 - acc: 0.9393 - val_loss: 0.6919 - val_acc: 0.7707\n",
      "Epoch 19/20\n",
      "24000/24000 [==============================] - 2s 80us/step - loss: 0.1346 - acc: 0.9429 - val_loss: 0.7179 - val_acc: 0.7756\n",
      "Epoch 20/20\n",
      "24000/24000 [==============================] - 2s 86us/step - loss: 0.1293 - acc: 0.9453 - val_loss: 0.7538 - val_acc: 0.7768\n"
     ]
    },
    {
     "data": {
      "image/png": "[encoded data removed]",
      "text/plain": [
       "<Figure size 432x288 with 1 Axes>"
      ]
     },
     "metadata": {
      "needs_background": "light"
     },
     "output_type": "display_data"
    },
    {
     "data": {
      "image/png": "[encoded data removed]",
      "text/plain": [
       "<Figure size 432x288 with 1 Axes>"
      ]
     },
     "metadata": {
      "needs_background": "light"
     },
     "output_type": "display_data"
    }
   ],
   "source": [
    "# As the model outputs probabilities, binary crossentropy is the best loss\n",
    "# metric as it measures the distance between probability distributions\n",
    "model.compile(optimizer = 'rmsprop',\n",
    "              loss = 'binary_crossentropy',\n",
    "              metrics = ['accuracy'])\n",
    "\n",
    "history = model.fit(x_train,\n",
    "                    y_train,\n",
    "                    epochs = 20,\n",
    "                    batch_size = 512,\n",
    "                    validation_data = (x_val, y_val))\n",
    "\n",
    "# Prep history dictionary\n",
    "acc = history.history['acc']\n",
    "val_acc = history.history['val_acc']\n",
    "loss = history.history['loss']\n",
    "val_loss = history.history['val_loss']\n",
    "epochs = range(1, len(acc) + 1)\n",
    "\n",
    "# Plot the training and validation loss\n",
    "plt.plot(epochs, loss, 'bo', label='Training loss')\n",
    "plt.plot(epochs, val_loss, 'b', label='Validation loss')\n",
    "plt.title('Training and validation loss')\n",
    "plt.xlabel('Epochs')\n",
    "plt.ylabel('Loss')\n",
    "plt.legend()\n",
    "plt.show()\n",
    "\n",
    "# Plot the training and validation accuracy\n",
    "plt.clf()\n",
    "plt.plot(epochs, acc, 'bo', label='Training acc')\n",
    "plt.plot(epochs, val_acc, 'b', label='Validation acc')\n",
    "plt.title('Training and validation accuracy')\n",
    "plt.xlabel('Epochs')\n",
    "plt.ylabel('Accuracy')\n",
    "plt.legend()\n",
    "plt.show()"
   ]
  },
  {
   "cell_type": "markdown",
   "metadata": {
    "pycharm": {
     "name": "#%% md\n"
    }
   },
   "source": [
    "# =========================\n",
    "# Retrain model\n",
    "# ========================="
   ]
  },
  {
   "cell_type": "code",
   "execution_count": 31,
   "metadata": {
    "pycharm": {
     "is_executing": false,
     "name": "#%%\n"
    }
   },
   "outputs": [
    {
     "name": "stdout",
     "output_type": "stream",
     "text": [
      "Epoch 1/5\n",
      "24000/24000 [==============================] - 2s 100us/step - loss: 0.5804 - acc: 0.7630\n",
      "Epoch 2/5\n",
      "24000/24000 [==============================] - 2s 72us/step - loss: 0.4271 - acc: 0.8149\n",
      "Epoch 3/5\n",
      "24000/24000 [==============================] - 2s 69us/step - loss: 0.3428 - acc: 0.8425\n",
      "Epoch 4/5\n",
      "24000/24000 [==============================] - 2s 68us/step - loss: 0.2935 - acc: 0.8648\n",
      "Epoch 5/5\n",
      "24000/24000 [==============================] - 2s 67us/step - loss: 0.2637 - acc: 0.8800\n"
     ]
    },
    {
     "data": {
      "text/plain": [
       "<keras.callbacks.History at 0x7f0dbdb9cdd0>"
      ]
     },
     "execution_count": 31,
     "metadata": {},
     "output_type": "execute_result"
    }
   ],
   "source": [
    "model = models.Sequential()\n",
    "model.add(layers.Dense(16, activation = 'relu', input_shape = (10000,)))\n",
    "model.add(layers.Dense(16, activation = 'relu'))\n",
    "model.add(layers.Dense(1, activation = 'sigmoid'))\n",
    "\n",
    "model.compile(optimizer = 'rmsprop',\n",
    "              loss = 'binary_crossentropy',\n",
    "              metrics = ['accuracy'])\n",
    "\n",
    "model.fit(x_train, y_train, epochs = 5, batch_size = 512)"
   ]
  },
  {
   "cell_type": "markdown",
   "metadata": {
    "pycharm": {
     "name": "#%% md\n"
    }
   },
   "source": [
    "# =========================\n",
    "# Evaluate on test data\n",
    "# ========================="
   ]
  },
  {
   "cell_type": "code",
   "execution_count": 34,
   "metadata": {
    "pycharm": {
     "is_executing": false,
     "name": "#%%\n"
    }
   },
   "outputs": [
    {
     "name": "stdout",
     "output_type": "stream",
     "text": [
      "6203/6203 [==============================] - 1s 102us/step\n"
     ]
    },
    {
     "data": {
      "text/plain": [
       "['loss', 'acc']"
      ]
     },
     "execution_count": 34,
     "metadata": {},
     "output_type": "execute_result"
    }
   ],
   "source": [
    "# DO NOT retrain to tokenizer. Use the argument oov_token=True to reserve a\n",
    "# token for unkown words. See https://bit.ly/2lNh15g\n",
    "\n",
    "# One-hot encode\n",
    "test_encodings = tokenizer.texts_to_matrix(test_data, mode = 'binary')\n",
    "\n",
    "# Print results as ['loss', 'acc'] check names with model.metrics_names\n",
    "model.evaluate(test_encodings, test_labels.values)\n",
    "\n",
    "model.metrics_names\n",
    "\n"
   ]
  },
  {
   "cell_type": "code",
   "execution_count": null,
   "metadata": {},
   "outputs": [],
   "source": []
  }
 ],
 "metadata": {
  "kernelspec": {
   "display_name": "PyCharm (study-online-misogyny)",
   "language": "python",
   "name": "pycharm-8b2223ef"
  },
  "language_info": {
   "codemirror_mode": {
    "name": "ipython",
    "version": 3
   },
   "file_extension": ".py",
   "mimetype": "text/x-python",
   "name": "python",
   "nbconvert_exporter": "python",
   "pygments_lexer": "ipython3",
   "version": "3.7.4"
  },
  "pycharm": {
   "stem_cell": {
    "cell_type": "raw",
    "metadata": {
     "collapsed": false
    },
    "source": []
   }
  }
 },
 "nbformat": 4,
 "nbformat_minor": 1
}
